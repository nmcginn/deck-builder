{
 "cells": [
  {
   "cell_type": "code",
   "execution_count": 27,
   "metadata": {},
   "outputs": [],
   "source": [
    "import os, sys, multiprocessing as mp, pandas as pd, requests, re\n",
    "from bs4 import BeautifulSoup\n",
    "\n",
    "r= requests.get('https://deckstats.net/decks/99839/957744-muldrotha-edh?lng=en')\n",
    "r.content\n",
    "soup = BeautifulSoup(r.content, 'lxml')\n",
    "\n",
    "html_data = soup.find_all('div', {'id': 'deck_overview_cards'})"
   ]
  },
  {
   "cell_type": "code",
   "execution_count": 28,
   "metadata": {},
   "outputs": [
    {
     "data": {
      "text/plain": [
       "['Muldrotha, the Gravetide',\n",
       " 'Abrupt Decay',\n",
       " 'Acidic Slime',\n",
       " \"Alchemist's Refuge\",\n",
       " 'Arcane Lighthouse']"
      ]
     },
     "execution_count": 28,
     "metadata": {},
     "output_type": "execute_result"
    }
   ],
   "source": [
    "raw_data = str(html_data[0])\n",
    "indices = [m.start() for m in re.finditer('target=\"_blank\">', raw_data)]\n",
    "card_list = []\n",
    "for index in indices:\n",
    "    card_text = raw_data[index+16:index+56]\n",
    "    card_text = card_text[0:card_text.find(' </a>')].strip()\n",
    "    card_list.append(card_text)\n",
    "card_list[0:5]"
   ]
  }
 ],
 "metadata": {
  "kernelspec": {
   "display_name": "Python 3",
   "language": "python",
   "name": "python3"
  },
  "language_info": {
   "codemirror_mode": {
    "name": "ipython",
    "version": 3
   },
   "file_extension": ".py",
   "mimetype": "text/x-python",
   "name": "python",
   "nbconvert_exporter": "python",
   "pygments_lexer": "ipython3",
   "version": "3.6.5"
  }
 },
 "nbformat": 4,
 "nbformat_minor": 2
}
