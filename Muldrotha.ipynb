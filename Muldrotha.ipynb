{
 "cells": [
  {
   "cell_type": "code",
   "execution_count": 45,
   "metadata": {},
   "outputs": [],
   "source": [
    "import os, sys, multiprocessing as mp, pandas as pd, requests, re\n",
    "from bs4 import BeautifulSoup\n",
    "\n",
    "r = requests.get('https://deckstats.net/decks/99839/957744-muldrotha-edh?lng=en')\n",
    "r.content\n",
    "soup = BeautifulSoup(r.content, 'lxml')\n",
    "\n",
    "html_data = soup.find_all('div', {'id': 'deck_overview_cards'})"
   ]
  },
  {
   "cell_type": "code",
   "execution_count": 46,
   "metadata": {},
   "outputs": [
    {
     "data": {
      "text/plain": [
       "'Zhalfirin Void'"
      ]
     },
     "execution_count": 46,
     "metadata": {},
     "output_type": "execute_result"
    }
   ],
   "source": [
    "raw_data = str(html_data[0])\n",
    "indices = [m.start() for m in re.finditer('target=\"_blank\">', raw_data)]\n",
    "card_list = []\n",
    "for index in indices:\n",
    "    card_text = raw_data[index+16:index+56]\n",
    "    card_text = card_text[0:card_text.find(' </a>')].strip()\n",
    "    card_list.append(card_text)\n",
    "card_list[-1]"
   ]
  },
  {
   "cell_type": "code",
   "execution_count": 47,
   "metadata": {},
   "outputs": [],
   "source": [
    "def get_card_data(card_name):\n",
    "    r = requests.get('https://api.scryfall.com/cards/search/?q=' + card_name)\n",
    "    return(r.json()) # we _should_ always get the card we need since titles are exact\n",
    "pool = mp.Pool()\n",
    "card_data = pool.map(get_card_data, card_list)\n",
    "pool.close()"
   ]
  },
  {
   "cell_type": "code",
   "execution_count": 56,
   "metadata": {},
   "outputs": [
    {
     "data": {
      "text/html": [
       "<div>\n",
       "<style scoped>\n",
       "    .dataframe tbody tr th:only-of-type {\n",
       "        vertical-align: middle;\n",
       "    }\n",
       "\n",
       "    .dataframe tbody tr th {\n",
       "        vertical-align: top;\n",
       "    }\n",
       "\n",
       "    .dataframe thead th {\n",
       "        text-align: right;\n",
       "    }\n",
       "</style>\n",
       "<table border=\"1\" class=\"dataframe\">\n",
       "  <thead>\n",
       "    <tr style=\"text-align: right;\">\n",
       "      <th></th>\n",
       "      <th>name</th>\n",
       "      <th>type_line</th>\n",
       "      <th>cmc</th>\n",
       "      <th>mana_cost</th>\n",
       "      <th>oracle_text</th>\n",
       "      <th>power</th>\n",
       "      <th>toughness</th>\n",
       "      <th>usd</th>\n",
       "      <th>uri</th>\n",
       "    </tr>\n",
       "  </thead>\n",
       "  <tbody>\n",
       "    <tr>\n",
       "      <th>0</th>\n",
       "      <td>Muldrotha, the Gravetide</td>\n",
       "      <td>Legendary Creature — Elemental Avatar</td>\n",
       "      <td>6.0</td>\n",
       "      <td>{3}{U}{B}{G}</td>\n",
       "      <td>During each of your turns, you may play up to ...</td>\n",
       "      <td>6</td>\n",
       "      <td>6</td>\n",
       "      <td>5.99</td>\n",
       "      <td>https://api.scryfall.com/cards/dom/199</td>\n",
       "    </tr>\n",
       "    <tr>\n",
       "      <th>1</th>\n",
       "      <td>Abrupt Decay</td>\n",
       "      <td>Instant</td>\n",
       "      <td>2.0</td>\n",
       "      <td>{B}{G}</td>\n",
       "      <td>Abrupt Decay can't be countered by spells or a...</td>\n",
       "      <td>NaN</td>\n",
       "      <td>NaN</td>\n",
       "      <td>5.17</td>\n",
       "      <td>https://api.scryfall.com/cards/mm3/146</td>\n",
       "    </tr>\n",
       "    <tr>\n",
       "      <th>2</th>\n",
       "      <td>Acidic Slime</td>\n",
       "      <td>Creature — Ooze</td>\n",
       "      <td>5.0</td>\n",
       "      <td>{3}{G}{G}</td>\n",
       "      <td>Deathtouch (Any amount of damage this deals to...</td>\n",
       "      <td>2</td>\n",
       "      <td>2</td>\n",
       "      <td>0.25</td>\n",
       "      <td>https://api.scryfall.com/cards/cma/90</td>\n",
       "    </tr>\n",
       "    <tr>\n",
       "      <th>3</th>\n",
       "      <td>Alchemist's Refuge</td>\n",
       "      <td>Land</td>\n",
       "      <td>0.0</td>\n",
       "      <td></td>\n",
       "      <td>{T}: Add {C} to your mana pool.\\n{G}{U}, {T}: ...</td>\n",
       "      <td>NaN</td>\n",
       "      <td>NaN</td>\n",
       "      <td>1.99</td>\n",
       "      <td>https://api.scryfall.com/cards/avr/225</td>\n",
       "    </tr>\n",
       "    <tr>\n",
       "      <th>4</th>\n",
       "      <td>Arcane Lighthouse</td>\n",
       "      <td>Land</td>\n",
       "      <td>0.0</td>\n",
       "      <td></td>\n",
       "      <td>{T}: Add {C} to your mana pool.\\n{1}, {T}: Unt...</td>\n",
       "      <td>NaN</td>\n",
       "      <td>NaN</td>\n",
       "      <td>2.79</td>\n",
       "      <td>https://api.scryfall.com/cards/c14/59</td>\n",
       "    </tr>\n",
       "  </tbody>\n",
       "</table>\n",
       "</div>"
      ],
      "text/plain": [
       "                       name                              type_line  cmc  \\\n",
       "0  Muldrotha, the Gravetide  Legendary Creature — Elemental Avatar  6.0   \n",
       "1              Abrupt Decay                                Instant  2.0   \n",
       "2              Acidic Slime                        Creature — Ooze  5.0   \n",
       "3        Alchemist's Refuge                                   Land  0.0   \n",
       "4         Arcane Lighthouse                                   Land  0.0   \n",
       "\n",
       "      mana_cost                                        oracle_text power  \\\n",
       "0  {3}{U}{B}{G}  During each of your turns, you may play up to ...     6   \n",
       "1        {B}{G}  Abrupt Decay can't be countered by spells or a...   NaN   \n",
       "2     {3}{G}{G}  Deathtouch (Any amount of damage this deals to...     2   \n",
       "3                {T}: Add {C} to your mana pool.\\n{G}{U}, {T}: ...   NaN   \n",
       "4                {T}: Add {C} to your mana pool.\\n{1}, {T}: Unt...   NaN   \n",
       "\n",
       "  toughness   usd                                     uri  \n",
       "0         6  5.99  https://api.scryfall.com/cards/dom/199  \n",
       "1       NaN  5.17  https://api.scryfall.com/cards/mm3/146  \n",
       "2         2  0.25   https://api.scryfall.com/cards/cma/90  \n",
       "3       NaN  1.99  https://api.scryfall.com/cards/avr/225  \n",
       "4       NaN  2.79   https://api.scryfall.com/cards/c14/59  "
      ]
     },
     "execution_count": 56,
     "metadata": {},
     "output_type": "execute_result"
    }
   ],
   "source": [
    "card_df = pd.DataFrame(list(map(lambda x: x['data'][0], card_data)))\n",
    "card_df = card_df[['name','type_line','cmc','mana_cost','oracle_text','power','toughness','usd','uri']]\n",
    "card_df.head()"
   ]
  }
 ],
 "metadata": {
  "kernelspec": {
   "display_name": "Python 3",
   "language": "python",
   "name": "python3"
  },
  "language_info": {
   "codemirror_mode": {
    "name": "ipython",
    "version": 3
   },
   "file_extension": ".py",
   "mimetype": "text/x-python",
   "name": "python",
   "nbconvert_exporter": "python",
   "pygments_lexer": "ipython3",
   "version": "3.6.5"
  }
 },
 "nbformat": 4,
 "nbformat_minor": 2
}
